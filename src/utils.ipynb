{
 "cells": [
  {
   "metadata": {
    "collapsed": true,
    "ExecuteTime": {
     "end_time": "2025-06-24T11:53:17.378322Z",
     "start_time": "2025-06-24T11:53:17.336444Z"
    }
   },
   "cell_type": "code",
   "source": [
    "import os\n",
    "import psycopg2\n",
    "from urllib.parse import urlparse\n",
    "from dotenv import load_dotenv\n",
    "\n",
    "# Load environment variables\n",
    "load_dotenv()\n",
    "\n",
    "def get_db_connection():\n",
    "    \"\"\"\n",
    "    Returns a psycopg2 connection using DATABASE_URL from .env\n",
    "    \"\"\"\n",
    "    db_url = os.getenv(\"DATABASE_URL\")\n",
    "    if not db_url:\n",
    "        raise ValueError(\"DATABASE_URL not set in .env\")\n",
    "\n",
    "    parsed = urlparse(db_url)\n",
    "\n",
    "    return psycopg2.connect(\n",
    "        host=parsed.hostname,\n",
    "        port=parsed.port,\n",
    "        dbname=parsed.path.lstrip('/'),\n",
    "        user=parsed.username,\n",
    "        password=parsed.password\n",
    "    )\n",
    "\n",
    "def log(message):\n",
    "    \"\"\"\n",
    "    Simple logger for notebook and CLI debugging.\n",
    "    \"\"\"\n",
    "    print(f\"[LOG] {message}\")\n"
   ],
   "id": "initial_id",
   "outputs": [],
   "execution_count": 6
  }
 ],
 "metadata": {
  "kernelspec": {
   "display_name": "Python (base)",
   "language": "python",
   "name": "base"
  },
  "language_info": {
   "codemirror_mode": {
    "name": "ipython",
    "version": 2
   },
   "file_extension": ".py",
   "mimetype": "text/x-python",
   "name": "python",
   "nbconvert_exporter": "python",
   "pygments_lexer": "ipython2",
   "version": "2.7.6"
  }
 },
 "nbformat": 4,
 "nbformat_minor": 5
}
